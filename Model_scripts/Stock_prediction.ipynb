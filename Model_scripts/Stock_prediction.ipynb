{
  "nbformat": 4,
  "nbformat_minor": 0,
  "metadata": {
    "colab": {
      "name": "Untitled3.ipynb",
      "provenance": []
    },
    "kernelspec": {
      "name": "python3",
      "display_name": "Python 3"
    },
    "language_info": {
      "name": "python"
    }
  },
  "cells": [
    {
      "cell_type": "code",
      "execution_count": null,
      "metadata": {
        "colab": {
          "base_uri": "https://localhost:8080/"
        },
        "id": "Sy_vPcoBTkug",
        "outputId": "fec6853b-9ce7-4f6d-cb8b-5db9fb06df6e"
      },
      "outputs": [
        {
          "output_type": "stream",
          "name": "stdout",
          "text": [
            "Collecting yfinance\n",
            "  Downloading yfinance-0.1.67-py2.py3-none-any.whl (25 kB)\n",
            "Requirement already satisfied: multitasking>=0.0.7 in /usr/local/lib/python3.7/dist-packages (from yfinance) (0.0.10)\n",
            "Requirement already satisfied: requests>=2.20 in /usr/local/lib/python3.7/dist-packages (from yfinance) (2.23.0)\n",
            "Requirement already satisfied: numpy>=1.15 in /usr/local/lib/python3.7/dist-packages (from yfinance) (1.19.5)\n",
            "Collecting lxml>=4.5.1\n",
            "  Downloading lxml-4.7.1-cp37-cp37m-manylinux_2_17_x86_64.manylinux2014_x86_64.manylinux_2_24_x86_64.whl (6.4 MB)\n",
            "\u001b[K     |████████████████████████████████| 6.4 MB 13.0 MB/s \n",
            "\u001b[?25hRequirement already satisfied: pandas>=0.24 in /usr/local/lib/python3.7/dist-packages (from yfinance) (1.1.5)\n",
            "Requirement already satisfied: python-dateutil>=2.7.3 in /usr/local/lib/python3.7/dist-packages (from pandas>=0.24->yfinance) (2.8.2)\n",
            "Requirement already satisfied: pytz>=2017.2 in /usr/local/lib/python3.7/dist-packages (from pandas>=0.24->yfinance) (2018.9)\n",
            "Requirement already satisfied: six>=1.5 in /usr/local/lib/python3.7/dist-packages (from python-dateutil>=2.7.3->pandas>=0.24->yfinance) (1.15.0)\n",
            "Requirement already satisfied: chardet<4,>=3.0.2 in /usr/local/lib/python3.7/dist-packages (from requests>=2.20->yfinance) (3.0.4)\n",
            "Requirement already satisfied: certifi>=2017.4.17 in /usr/local/lib/python3.7/dist-packages (from requests>=2.20->yfinance) (2021.10.8)\n",
            "Requirement already satisfied: idna<3,>=2.5 in /usr/local/lib/python3.7/dist-packages (from requests>=2.20->yfinance) (2.10)\n",
            "Requirement already satisfied: urllib3!=1.25.0,!=1.25.1,<1.26,>=1.21.1 in /usr/local/lib/python3.7/dist-packages (from requests>=2.20->yfinance) (1.24.3)\n",
            "Installing collected packages: lxml, yfinance\n",
            "  Attempting uninstall: lxml\n",
            "    Found existing installation: lxml 4.2.6\n",
            "    Uninstalling lxml-4.2.6:\n",
            "      Successfully uninstalled lxml-4.2.6\n",
            "Successfully installed lxml-4.7.1 yfinance-0.1.67\n"
          ]
        }
      ],
      "source": [
        "import pandas as pd\n",
        "\n",
        "import datetime\n",
        "\n",
        "import numpy as np\n",
        "\n",
        "import matplotlib.pyplot as plt\n",
        "\n",
        "from pandas.plotting import scatter_matrix\n",
        "\n",
        "!pip install yfinance\n",
        "\n",
        "import yfinance as yf\n",
        "\n",
        "%matplotlib inline\n",
        "from sklearn import preprocessing\n",
        "from sklearn import metrics\n",
        "from sklearn.model_selection import train_test_split\n",
        "from sklearn.linear_model import LinearRegression"
      ]
    },
    {
      "cell_type": "code",
      "source": [
        "start = \"2015-01-01\"\n",
        "end = '2020-01-01'"
      ],
      "metadata": {
        "id": "gie2etTNTnsc"
      },
      "execution_count": null,
      "outputs": []
    },
    {
      "cell_type": "code",
      "source": [
        "inp=input()"
      ],
      "metadata": {
        "colab": {
          "base_uri": "https://localhost:8080/"
        },
        "id": "OBPGQvKJTtrs",
        "outputId": "f9e7527b-09cf-4c1e-a102-a581ef3d23ea"
      },
      "execution_count": null,
      "outputs": [
        {
          "name": "stdout",
          "output_type": "stream",
          "text": [
            "Tesla\n"
          ]
        }
      ]
    },
    {
      "cell_type": "code",
      "source": [
        "y='TCS'\n",
        "if (inp=='tesla'):\n",
        "    y='TCS'\n",
        "elif(inp=='wipro'):\n",
        "    y='WIPRO.NS'\n",
        "elif(inp=='microsoft'):\n",
        "  y='msft'\n",
        "elif(inp=='infosys'):\n",
        "  y='INFY'\n",
        "elif(inp=='apple'):\n",
        "  y='aapl'\n",
        "elif(inp=='amazon'):\n",
        "  y='amzn'\n",
        "else:  \n",
        "  print(\"ERROR\")\n",
        "\n",
        "data = yf.download(y,start,end)"
      ],
      "metadata": {
        "colab": {
          "base_uri": "https://localhost:8080/"
        },
        "id": "1hOfnD9fT94p",
        "outputId": "2da49065-035e-4348-aa81-ef8717c8a901"
      },
      "execution_count": null,
      "outputs": [
        {
          "output_type": "stream",
          "name": "stdout",
          "text": [
            "ERROR\n",
            "[*********************100%***********************]  1 of 1 completed\n"
          ]
        }
      ]
    },
    {
      "cell_type": "code",
      "source": [
        "data.head()"
      ],
      "metadata": {
        "colab": {
          "base_uri": "https://localhost:8080/",
          "height": 238
        },
        "id": "eXMtNlriUt5u",
        "outputId": "093f7ebc-df45-4f64-bd8a-b375c9e55011"
      },
      "execution_count": null,
      "outputs": [
        {
          "output_type": "execute_result",
          "data": {
            "text/html": [
              "<div>\n",
              "<style scoped>\n",
              "    .dataframe tbody tr th:only-of-type {\n",
              "        vertical-align: middle;\n",
              "    }\n",
              "\n",
              "    .dataframe tbody tr th {\n",
              "        vertical-align: top;\n",
              "    }\n",
              "\n",
              "    .dataframe thead th {\n",
              "        text-align: right;\n",
              "    }\n",
              "</style>\n",
              "<table border=\"1\" class=\"dataframe\">\n",
              "  <thead>\n",
              "    <tr style=\"text-align: right;\">\n",
              "      <th></th>\n",
              "      <th>Open</th>\n",
              "      <th>High</th>\n",
              "      <th>Low</th>\n",
              "      <th>Close</th>\n",
              "      <th>Adj Close</th>\n",
              "      <th>Volume</th>\n",
              "    </tr>\n",
              "    <tr>\n",
              "      <th>Date</th>\n",
              "      <th></th>\n",
              "      <th></th>\n",
              "      <th></th>\n",
              "      <th></th>\n",
              "      <th></th>\n",
              "      <th></th>\n",
              "    </tr>\n",
              "  </thead>\n",
              "  <tbody>\n",
              "    <tr>\n",
              "      <th>2015-01-02</th>\n",
              "      <td>19.290001</td>\n",
              "      <td>19.770000</td>\n",
              "      <td>18.990000</td>\n",
              "      <td>19.379999</td>\n",
              "      <td>18.116087</td>\n",
              "      <td>280800</td>\n",
              "    </tr>\n",
              "    <tr>\n",
              "      <th>2015-01-05</th>\n",
              "      <td>19.110001</td>\n",
              "      <td>19.180000</td>\n",
              "      <td>18.129999</td>\n",
              "      <td>18.320000</td>\n",
              "      <td>17.125217</td>\n",
              "      <td>565300</td>\n",
              "    </tr>\n",
              "    <tr>\n",
              "      <th>2015-01-06</th>\n",
              "      <td>18.389999</td>\n",
              "      <td>18.690001</td>\n",
              "      <td>17.530001</td>\n",
              "      <td>18.480000</td>\n",
              "      <td>17.274782</td>\n",
              "      <td>457700</td>\n",
              "    </tr>\n",
              "    <tr>\n",
              "      <th>2015-01-07</th>\n",
              "      <td>18.629999</td>\n",
              "      <td>20.450001</td>\n",
              "      <td>18.629999</td>\n",
              "      <td>20.340000</td>\n",
              "      <td>19.013479</td>\n",
              "      <td>679600</td>\n",
              "    </tr>\n",
              "    <tr>\n",
              "      <th>2015-01-08</th>\n",
              "      <td>20.700001</td>\n",
              "      <td>21.680000</td>\n",
              "      <td>19.510000</td>\n",
              "      <td>21.209999</td>\n",
              "      <td>19.826738</td>\n",
              "      <td>1113300</td>\n",
              "    </tr>\n",
              "  </tbody>\n",
              "</table>\n",
              "</div>"
            ],
            "text/plain": [
              "                 Open       High        Low      Close  Adj Close   Volume\n",
              "Date                                                                      \n",
              "2015-01-02  19.290001  19.770000  18.990000  19.379999  18.116087   280800\n",
              "2015-01-05  19.110001  19.180000  18.129999  18.320000  17.125217   565300\n",
              "2015-01-06  18.389999  18.690001  17.530001  18.480000  17.274782   457700\n",
              "2015-01-07  18.629999  20.450001  18.629999  20.340000  19.013479   679600\n",
              "2015-01-08  20.700001  21.680000  19.510000  21.209999  19.826738  1113300"
            ]
          },
          "metadata": {},
          "execution_count": 7
        }
      ]
    },
    {
      "cell_type": "code",
      "source": [
        "X = data[['High','Low','Open','Volume']].values\n",
        "y = data['Close'].values"
      ],
      "metadata": {
        "id": "2OsktcH3VTZw"
      },
      "execution_count": null,
      "outputs": []
    },
    {
      "cell_type": "code",
      "source": [
        "X"
      ],
      "metadata": {
        "colab": {
          "base_uri": "https://localhost:8080/"
        },
        "id": "r-BSae5oVZU4",
        "outputId": "61a3b964-5d1a-416a-d491-d23d54472fda"
      },
      "execution_count": null,
      "outputs": [
        {
          "output_type": "execute_result",
          "data": {
            "text/plain": [
              "array([[1.97700005e+01, 1.89899998e+01, 1.92900009e+01, 2.80800000e+05],\n",
              "       [1.91800003e+01, 1.81299992e+01, 1.91100006e+01, 5.65300000e+05],\n",
              "       [1.86900005e+01, 1.75300007e+01, 1.83899994e+01, 4.57700000e+05],\n",
              "       ...,\n",
              "       [4.55000019e+00, 4.28999996e+00, 4.51999998e+00, 1.96000000e+05],\n",
              "       [4.34000015e+00, 4.15999985e+00, 4.26999998e+00, 1.59700000e+05],\n",
              "       [4.26000023e+00, 4.13999987e+00, 4.15999985e+00, 2.32500000e+05]])"
            ]
          },
          "metadata": {},
          "execution_count": 9
        }
      ]
    },
    {
      "cell_type": "code",
      "source": [
        "X_train, X_test, y_train, y_test = train_test_split(X,y, test_size=0.2, random_state=1)"
      ],
      "metadata": {
        "id": "fRFO3-bYVdqb"
      },
      "execution_count": null,
      "outputs": []
    },
    {
      "cell_type": "code",
      "source": [
        "lc=LinearRegression()"
      ],
      "metadata": {
        "id": "ecpGAR-gVhej"
      },
      "execution_count": null,
      "outputs": []
    },
    {
      "cell_type": "code",
      "source": [
        "lc.fit(X_train, y_train)"
      ],
      "metadata": {
        "colab": {
          "base_uri": "https://localhost:8080/"
        },
        "id": "2Aixw_N2Vjll",
        "outputId": "8e278852-a4f6-4439-c58f-a98c59192e9a"
      },
      "execution_count": null,
      "outputs": [
        {
          "output_type": "execute_result",
          "data": {
            "text/plain": [
              "LinearRegression()"
            ]
          },
          "metadata": {},
          "execution_count": 12
        }
      ]
    },
    {
      "cell_type": "code",
      "source": [
        "predicted = lc.predict(X_test)"
      ],
      "metadata": {
        "id": "rczvnNxwVl3R"
      },
      "execution_count": null,
      "outputs": []
    },
    {
      "cell_type": "code",
      "source": [
        "hi=21.680000\n",
        "lo=19.510000\n",
        "op=20.700001\n",
        "vol=1113300"
      ],
      "metadata": {
        "id": "repopPGlVoPA"
      },
      "execution_count": null,
      "outputs": []
    },
    {
      "cell_type": "code",
      "source": [
        "defa=inp=([[hi,lo,op,vol]])"
      ],
      "metadata": {
        "id": "ssDFGgECXVU8"
      },
      "execution_count": null,
      "outputs": []
    },
    {
      "cell_type": "code",
      "source": [
        "output=lc.predict(inp)"
      ],
      "metadata": {
        "id": "cU3V5EHiXadC"
      },
      "execution_count": null,
      "outputs": []
    },
    {
      "cell_type": "code",
      "source": [
        "output"
      ],
      "metadata": {
        "colab": {
          "base_uri": "https://localhost:8080/"
        },
        "id": "tn0Jx1bhXcwA",
        "outputId": "80e6856e-7f0a-4be7-d695-2d6c65c4184a"
      },
      "execution_count": null,
      "outputs": [
        {
          "output_type": "execute_result",
          "data": {
            "text/plain": [
              "array([20.54313847])"
            ]
          },
          "metadata": {},
          "execution_count": 17
        }
      ]
    },
    {
      "cell_type": "code",
      "source": [
        ""
      ],
      "metadata": {
        "id": "h56VDGZwXeZE"
      },
      "execution_count": null,
      "outputs": []
    }
  ]
}